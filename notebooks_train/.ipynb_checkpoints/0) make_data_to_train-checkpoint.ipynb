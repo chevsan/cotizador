{
 "cells": [
  {
   "cell_type": "markdown",
   "id": "e92986ee",
   "metadata": {},
   "source": [
    "### INDICE\n",
    "* [**1) Notebook**](#section_notebook)\n",
    "* [**2) Import data**](#section_import)\n",
    "* [**3) Validation**](#section_val)"
   ]
  },
  {
   "cell_type": "markdown",
   "id": "a4d75c20",
   "metadata": {},
   "source": [
    "# 0) Notebook <a id='section_notebook'></a>"
   ]
  },
  {
   "cell_type": "code",
   "execution_count": 44,
   "id": "2548e1f6",
   "metadata": {},
   "outputs": [],
   "source": [
    "#### Librerías y modulos ####\n",
    "import pandas as pd\n",
    "import numpy as np\n",
    "import seaborn as sns\n",
    "import matplotlib.pyplot as plt\n",
    "import sklearn\n",
    "from pandas.io import gbq\n",
    "from datetime import datetime\n",
    "import warnings\n",
    "import missingno as msno"
   ]
  },
  {
   "cell_type": "code",
   "execution_count": 54,
   "id": "f0abee8d",
   "metadata": {},
   "outputs": [],
   "source": [
    "#### Configuraciones de la notebook ####\n",
    "#pd.set_option('display.max_columns', 500)\n",
    "#pd.set_option('display.width', 1000)\n",
    "pd.set_option('display.float_format', lambda x: '%.2f' % x)\n",
    "warnings.filterwarnings(\"ignore\")"
   ]
  },
  {
   "cell_type": "code",
   "execution_count": 37,
   "id": "0f2aa1c5",
   "metadata": {},
   "outputs": [],
   "source": [
    "#### Parametros de la notebook ####\n",
    "path_save = 'datos/'\n",
    "filter_date = str(\"2022-01-01\")"
   ]
  },
  {
   "cell_type": "markdown",
   "id": "9e79e3a7",
   "metadata": {},
   "source": [
    "# 1) Import data <a id='section_import'></a>"
   ]
  },
  {
   "cell_type": "code",
   "execution_count": 29,
   "id": "cd6210fe",
   "metadata": {},
   "outputs": [],
   "source": [
    "# Importar tabla de Big Query\n",
    "query = \"SELECT * FROM `data-team-k.pricing_data.match_meli_ok` WHERE date > '{}' \".format(filter_date)\n",
    "df_meli = gbq.read_gbq(query, project_id=\"data-team-k\")"
   ]
  },
  {
   "cell_type": "code",
   "execution_count": 38,
   "id": "d70eeed9",
   "metadata": {},
   "outputs": [],
   "source": [
    "# Descargarlo como pickle\n",
    "fecha = datetime.today().strftime('%Y-%m-%d')\n",
    "df_meli.to_pickle('{}df_meli_{}.pkl'.format(path_save,fecha))"
   ]
  },
  {
   "cell_type": "code",
   "execution_count": 39,
   "id": "85df744b",
   "metadata": {},
   "outputs": [],
   "source": [
    "# Upload del pickle\n",
    "#df_meli = pd.read_pickle('{}df_meli_2022-02-14.pkl'.format(path_save))"
   ]
  },
  {
   "cell_type": "code",
   "execution_count": 40,
   "id": "1e79b809",
   "metadata": {},
   "outputs": [
    {
     "data": {
      "text/plain": [
       "Timestamp('2022-02-13 00:00:00')"
      ]
     },
     "execution_count": 40,
     "metadata": {},
     "output_type": "execute_result"
    }
   ],
   "source": [
    "df_meli.date.max()"
   ]
  },
  {
   "cell_type": "markdown",
   "id": "8d8464e4",
   "metadata": {},
   "source": [
    "# 2) Validation <a id='section_val'></a>"
   ]
  },
  {
   "cell_type": "code",
   "execution_count": 48,
   "id": "7cd2c940",
   "metadata": {},
   "outputs": [
    {
     "data": {
      "text/plain": [
       "(3907159, 42)"
      ]
     },
     "execution_count": 48,
     "metadata": {},
     "output_type": "execute_result"
    }
   ],
   "source": [
    "df_meli.shape"
   ]
  },
  {
   "cell_type": "code",
   "execution_count": 50,
   "id": "18b46044",
   "metadata": {},
   "outputs": [
    {
     "data": {
      "text/plain": [
       "runtime                   0\n",
       "date                      0\n",
       "timestamp                 0\n",
       "date_hour           3907159\n",
       "price_symbol              0\n",
       "price_amount_txt          0\n",
       "price_amount              0\n",
       "car_year                  0\n",
       "car_kms_txt               0\n",
       "car_kms                   0\n",
       "km                        0\n",
       "car_title                 0\n",
       "car_location              0\n",
       "car_location_0            0\n",
       "car_location_1         5122\n",
       "car_link                  0\n",
       "car_id                    0\n",
       "year                      0\n",
       "brand                     0\n",
       "model                     0\n",
       "version                   0\n",
       "dealer                    0\n",
       "match_marca_a           203\n",
       "score_marca_a           203\n",
       "match_modelo_a          203\n",
       "score_modelo_a          203\n",
       "match_v1_a              203\n",
       "score_v1_a              203\n",
       "total_score_a           203\n",
       "Seg_a                   203\n",
       "Subseg_a                203\n",
       "gama_a                  203\n",
       "match_marca_c           203\n",
       "score_marca_c           203\n",
       "match_modelo_c          203\n",
       "score_modelo_c          203\n",
       "match_v1_c              203\n",
       "score_v1_c              203\n",
       "total_score_c           203\n",
       "Seg_c                   203\n",
       "Subseg_c                203\n",
       "gama_c                  203\n",
       "dtype: int64"
      ]
     },
     "execution_count": 50,
     "metadata": {},
     "output_type": "execute_result"
    }
   ],
   "source": [
    "df_meli.isnull().sum()"
   ]
  },
  {
   "cell_type": "code",
   "execution_count": 55,
   "id": "b48b861b",
   "metadata": {},
   "outputs": [
    {
     "data": {
      "text/html": [
       "<div>\n",
       "<style scoped>\n",
       "    .dataframe tbody tr th:only-of-type {\n",
       "        vertical-align: middle;\n",
       "    }\n",
       "\n",
       "    .dataframe tbody tr th {\n",
       "        vertical-align: top;\n",
       "    }\n",
       "\n",
       "    .dataframe thead th {\n",
       "        text-align: right;\n",
       "    }\n",
       "</style>\n",
       "<table border=\"1\" class=\"dataframe\">\n",
       "  <thead>\n",
       "    <tr style=\"text-align: right;\">\n",
       "      <th></th>\n",
       "      <th>price_amount</th>\n",
       "      <th>car_year</th>\n",
       "      <th>car_kms</th>\n",
       "      <th>year</th>\n",
       "      <th>score_marca_a</th>\n",
       "      <th>score_modelo_a</th>\n",
       "      <th>score_v1_a</th>\n",
       "      <th>total_score_a</th>\n",
       "      <th>score_marca_c</th>\n",
       "      <th>score_modelo_c</th>\n",
       "      <th>score_v1_c</th>\n",
       "      <th>total_score_c</th>\n",
       "    </tr>\n",
       "  </thead>\n",
       "  <tbody>\n",
       "    <tr>\n",
       "      <th>count</th>\n",
       "      <td>3907159.00</td>\n",
       "      <td>3907159.00</td>\n",
       "      <td>3907159.00</td>\n",
       "      <td>3907159.00</td>\n",
       "      <td>3906956.00</td>\n",
       "      <td>3906956.00</td>\n",
       "      <td>3906956.00</td>\n",
       "      <td>3906956.00</td>\n",
       "      <td>3906956.00</td>\n",
       "      <td>3906956.00</td>\n",
       "      <td>3906956.00</td>\n",
       "      <td>3906956.00</td>\n",
       "    </tr>\n",
       "    <tr>\n",
       "      <th>mean</th>\n",
       "      <td>2407612.95</td>\n",
       "      <td>2015.62</td>\n",
       "      <td>80266.09</td>\n",
       "      <td>2015.62</td>\n",
       "      <td>99.59</td>\n",
       "      <td>97.88</td>\n",
       "      <td>85.72</td>\n",
       "      <td>83.83</td>\n",
       "      <td>99.59</td>\n",
       "      <td>96.32</td>\n",
       "      <td>88.27</td>\n",
       "      <td>84.96</td>\n",
       "    </tr>\n",
       "    <tr>\n",
       "      <th>std</th>\n",
       "      <td>2764266.24</td>\n",
       "      <td>4.30</td>\n",
       "      <td>119460.67</td>\n",
       "      <td>4.30</td>\n",
       "      <td>2.11</td>\n",
       "      <td>9.44</td>\n",
       "      <td>16.68</td>\n",
       "      <td>18.58</td>\n",
       "      <td>2.03</td>\n",
       "      <td>11.93</td>\n",
       "      <td>18.54</td>\n",
       "      <td>21.01</td>\n",
       "    </tr>\n",
       "    <tr>\n",
       "      <th>min</th>\n",
       "      <td>1111.00</td>\n",
       "      <td>2006.00</td>\n",
       "      <td>0.00</td>\n",
       "      <td>2006.00</td>\n",
       "      <td>33.00</td>\n",
       "      <td>0.00</td>\n",
       "      <td>0.00</td>\n",
       "      <td>0.00</td>\n",
       "      <td>50.00</td>\n",
       "      <td>0.00</td>\n",
       "      <td>0.00</td>\n",
       "      <td>0.00</td>\n",
       "    </tr>\n",
       "    <tr>\n",
       "      <th>10%</th>\n",
       "      <td>34900.00</td>\n",
       "      <td>2010.00</td>\n",
       "      <td>0.00</td>\n",
       "      <td>2010.00</td>\n",
       "      <td>100.00</td>\n",
       "      <td>95.00</td>\n",
       "      <td>61.00</td>\n",
       "      <td>60.00</td>\n",
       "      <td>100.00</td>\n",
       "      <td>90.00</td>\n",
       "      <td>63.00</td>\n",
       "      <td>52.00</td>\n",
       "    </tr>\n",
       "    <tr>\n",
       "      <th>25%</th>\n",
       "      <td>1070000.00</td>\n",
       "      <td>2012.00</td>\n",
       "      <td>3500.00</td>\n",
       "      <td>2012.00</td>\n",
       "      <td>100.00</td>\n",
       "      <td>100.00</td>\n",
       "      <td>76.00</td>\n",
       "      <td>74.00</td>\n",
       "      <td>100.00</td>\n",
       "      <td>100.00</td>\n",
       "      <td>81.00</td>\n",
       "      <td>78.00</td>\n",
       "    </tr>\n",
       "    <tr>\n",
       "      <th>50%</th>\n",
       "      <td>1900000.00</td>\n",
       "      <td>2016.00</td>\n",
       "      <td>75000.00</td>\n",
       "      <td>2016.00</td>\n",
       "      <td>100.00</td>\n",
       "      <td>100.00</td>\n",
       "      <td>90.00</td>\n",
       "      <td>89.00</td>\n",
       "      <td>100.00</td>\n",
       "      <td>100.00</td>\n",
       "      <td>100.00</td>\n",
       "      <td>92.00</td>\n",
       "    </tr>\n",
       "    <tr>\n",
       "      <th>75%</th>\n",
       "      <td>3200000.00</td>\n",
       "      <td>2020.00</td>\n",
       "      <td>120000.00</td>\n",
       "      <td>2020.00</td>\n",
       "      <td>100.00</td>\n",
       "      <td>100.00</td>\n",
       "      <td>100.00</td>\n",
       "      <td>100.00</td>\n",
       "      <td>100.00</td>\n",
       "      <td>100.00</td>\n",
       "      <td>100.00</td>\n",
       "      <td>100.00</td>\n",
       "    </tr>\n",
       "    <tr>\n",
       "      <th>90%</th>\n",
       "      <td>4950000.00</td>\n",
       "      <td>2021.00</td>\n",
       "      <td>166666.00</td>\n",
       "      <td>2021.00</td>\n",
       "      <td>100.00</td>\n",
       "      <td>100.00</td>\n",
       "      <td>100.00</td>\n",
       "      <td>100.00</td>\n",
       "      <td>100.00</td>\n",
       "      <td>100.00</td>\n",
       "      <td>100.00</td>\n",
       "      <td>100.00</td>\n",
       "    </tr>\n",
       "    <tr>\n",
       "      <th>99%</th>\n",
       "      <td>9741269.00</td>\n",
       "      <td>2021.00</td>\n",
       "      <td>287000.00</td>\n",
       "      <td>2021.00</td>\n",
       "      <td>100.00</td>\n",
       "      <td>100.00</td>\n",
       "      <td>100.00</td>\n",
       "      <td>100.00</td>\n",
       "      <td>100.00</td>\n",
       "      <td>100.00</td>\n",
       "      <td>100.00</td>\n",
       "      <td>100.00</td>\n",
       "    </tr>\n",
       "    <tr>\n",
       "      <th>max</th>\n",
       "      <td>145000000.00</td>\n",
       "      <td>2022.00</td>\n",
       "      <td>11111111.00</td>\n",
       "      <td>2021.00</td>\n",
       "      <td>100.00</td>\n",
       "      <td>100.00</td>\n",
       "      <td>100.00</td>\n",
       "      <td>100.00</td>\n",
       "      <td>100.00</td>\n",
       "      <td>100.00</td>\n",
       "      <td>100.00</td>\n",
       "      <td>100.00</td>\n",
       "    </tr>\n",
       "  </tbody>\n",
       "</table>\n",
       "</div>"
      ],
      "text/plain": [
       "       price_amount   car_year     car_kms       year  score_marca_a  \\\n",
       "count    3907159.00 3907159.00  3907159.00 3907159.00     3906956.00   \n",
       "mean     2407612.95    2015.62    80266.09    2015.62          99.59   \n",
       "std      2764266.24       4.30   119460.67       4.30           2.11   \n",
       "min         1111.00    2006.00        0.00    2006.00          33.00   \n",
       "10%        34900.00    2010.00        0.00    2010.00         100.00   \n",
       "25%      1070000.00    2012.00     3500.00    2012.00         100.00   \n",
       "50%      1900000.00    2016.00    75000.00    2016.00         100.00   \n",
       "75%      3200000.00    2020.00   120000.00    2020.00         100.00   \n",
       "90%      4950000.00    2021.00   166666.00    2021.00         100.00   \n",
       "99%      9741269.00    2021.00   287000.00    2021.00         100.00   \n",
       "max    145000000.00    2022.00 11111111.00    2021.00         100.00   \n",
       "\n",
       "       score_modelo_a  score_v1_a  total_score_a  score_marca_c  \\\n",
       "count      3906956.00  3906956.00     3906956.00     3906956.00   \n",
       "mean            97.88       85.72          83.83          99.59   \n",
       "std              9.44       16.68          18.58           2.03   \n",
       "min              0.00        0.00           0.00          50.00   \n",
       "10%             95.00       61.00          60.00         100.00   \n",
       "25%            100.00       76.00          74.00         100.00   \n",
       "50%            100.00       90.00          89.00         100.00   \n",
       "75%            100.00      100.00         100.00         100.00   \n",
       "90%            100.00      100.00         100.00         100.00   \n",
       "99%            100.00      100.00         100.00         100.00   \n",
       "max            100.00      100.00         100.00         100.00   \n",
       "\n",
       "       score_modelo_c  score_v1_c  total_score_c  \n",
       "count      3906956.00  3906956.00     3906956.00  \n",
       "mean            96.32       88.27          84.96  \n",
       "std             11.93       18.54          21.01  \n",
       "min              0.00        0.00           0.00  \n",
       "10%             90.00       63.00          52.00  \n",
       "25%            100.00       81.00          78.00  \n",
       "50%            100.00      100.00          92.00  \n",
       "75%            100.00      100.00         100.00  \n",
       "90%            100.00      100.00         100.00  \n",
       "99%            100.00      100.00         100.00  \n",
       "max            100.00      100.00         100.00  "
      ]
     },
     "execution_count": 55,
     "metadata": {},
     "output_type": "execute_result"
    }
   ],
   "source": [
    "df_meli.describe(percentiles=[0.1,0.25,0.5,0.75,0.90,0.99])"
   ]
  }
 ],
 "metadata": {
  "kernelspec": {
   "display_name": "Python [conda env:dhdsblend2021] *",
   "language": "python",
   "name": "conda-env-dhdsblend2021-py"
  },
  "language_info": {
   "codemirror_mode": {
    "name": "ipython",
    "version": 3
   },
   "file_extension": ".py",
   "mimetype": "text/x-python",
   "name": "python",
   "nbconvert_exporter": "python",
   "pygments_lexer": "ipython3",
   "version": "3.8.12"
  }
 },
 "nbformat": 4,
 "nbformat_minor": 5
}
