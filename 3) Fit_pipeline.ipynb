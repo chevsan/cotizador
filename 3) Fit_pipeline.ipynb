{
 "cells": [
  {
   "cell_type": "markdown",
   "id": "43c1d6d6",
   "metadata": {},
   "source": [
    "Cuando haya que re-entrenar, esta será la notebook que tendremos que utilizar"
   ]
  },
  {
   "cell_type": "markdown",
   "id": "ea68d095",
   "metadata": {},
   "source": [
    "Objetivo: que se pueda correr por consola"
   ]
  },
  {
   "cell_type": "code",
   "execution_count": 37,
   "id": "f1ea92aa",
   "metadata": {},
   "outputs": [],
   "source": [
    "import pandas as pd\n",
    "import numpy as np\n",
    "from sklearn.preprocessing import FunctionTransformer\n",
    "from sklearn.compose import make_column_transformer, ColumnTransformer\n",
    "from sklearn.pipeline import make_pipeline\n",
    "from pathlib import Path\n",
    "import warnings\n",
    "warnings.filterwarnings('ignore')\n",
    "from pandas.io import gbq\n",
    "from datetime import datetime\n",
    "import warnings\n",
    "import openpyxl\n",
    "from catboost import CatBoostRegressor\n",
    "from sklearn.model_selection import train_test_split\n",
    "#!pip install sklearn-pandas\n",
    "from sklearn_pandas import DataFrameMapper\n",
    "from sklearn.metrics import r2_score"
   ]
  },
  {
   "cell_type": "markdown",
   "id": "82ef2622",
   "metadata": {},
   "source": [
    "## 1) Construccion del pipelinetarget"
   ]
  },
  {
   "cell_type": "code",
   "execution_count": 2,
   "id": "049e7ca5",
   "metadata": {},
   "outputs": [],
   "source": [
    "# Transformer de capeo\n",
    "def outlier_cap(data):\n",
    "    return pd.DataFrame(data).apply(lambda x: x.clip(upper=x.quantile(0.99))) \n",
    "\n",
    "outlier_transformer = FunctionTransformer(outlier_cap)"
   ]
  },
  {
   "cell_type": "code",
   "execution_count": 3,
   "id": "8c476c4b",
   "metadata": {},
   "outputs": [],
   "source": [
    "# Identificamos features\n",
    "cols_num = ['car_kms','car_year'] # estas hay que capearlas al p99 solo en el pipe de scoreo, porque en el ds de desarrollo directamente dropeamos los registros\n",
    "cols_categ = ['match_marca_a','match_modelo_a','match_v1_c', 'Subseg_a', 'Seg_a'] # estas hay que sumarle el sufijo de las categoricas"
   ]
  },
  {
   "cell_type": "code",
   "execution_count": 4,
   "id": "ba97a013",
   "metadata": {},
   "outputs": [],
   "source": [
    "# Sufijo necesario para usar catboost adentro de un pipeline\n",
    "categorical_suffix = \"_#CAT#\""
   ]
  },
  {
   "cell_type": "code",
   "execution_count": 5,
   "id": "f22e6f34",
   "metadata": {},
   "outputs": [],
   "source": [
    "# Creamos el column transformer, el cual será el step 1 del pipeline\n",
    "#ct1 = make_column_transformer(\n",
    "#    (outlier_transformer, cols_num)\n",
    "#    ,remainder='passthrough')"
   ]
  },
  {
   "cell_type": "code",
   "execution_count": 6,
   "id": "6843dba9",
   "metadata": {},
   "outputs": [],
   "source": [
    "# Reemplaza a un \"make_column_transformer\" y el diferencial es que el output lo tira en df y no en ndarray, lo cual nos complicaba aplicar el\n",
    "# catboost en el 2 step del pipeline, ya que debemos poder identificar las categoricas y para eso necesitabamos los nombres de las cols\n",
    "mapper = DataFrameMapper([\n",
    "    (cols_num, outlier_transformer),\n",
    "    #(['seasons'], SimpleImputer(strategy='median')),\n",
    "    #('genre', [CategoricalImputer(strategy='constant', fill_value='unknown'),\n",
    "    #           LabelBinarizer()]),\n",
    "    #('on_netflix', [CategoricalImputer(strategy='constant', fill_value='unknown'),\n",
    "    #               LabelEncoder()])\n",
    "], df_out=True)"
   ]
  },
  {
   "cell_type": "markdown",
   "id": "ac4f0f04",
   "metadata": {},
   "source": [
    "**Custom CatBoost Classifier** <br>\n",
    "We need to implement our own catboost classifier so we can track our categorical features"
   ]
  },
  {
   "cell_type": "code",
   "execution_count": 7,
   "id": "6df976b2",
   "metadata": {},
   "outputs": [],
   "source": [
    "class CustomCatBoostRegressor(CatBoostRegressor):\n",
    "\n",
    "    def fit(self, X, y=None, **fit_params):\n",
    "        print(X.filter(regex=f\"{categorical_suffix}$\").columns.to_list())\n",
    "\n",
    "        return super().fit(\n",
    "            X,\n",
    "            y=y,\n",
    "            cat_features=X.filter(regex=f\"{categorical_suffix}$\").columns,\n",
    "            **fit_params\n",
    "        )"
   ]
  },
  {
   "cell_type": "code",
   "execution_count": 8,
   "id": "fae51fda",
   "metadata": {},
   "outputs": [],
   "source": [
    "# Instanciamos el modelo, el cual será el step 2 del pipline\n",
    "#### aca no sería mejor usar el pickle con el modelo ya entrenado???? ######\n",
    "CB_estimator = CustomCatBoostRegressor(iterations=50, depth=3, learning_rate=0.1, loss_function='RMSE') #,logging_level=\"Silent\""
   ]
  },
  {
   "cell_type": "markdown",
   "id": "bd843efc",
   "metadata": {},
   "source": [
    "**Pipeline final**"
   ]
  },
  {
   "cell_type": "code",
   "execution_count": 9,
   "id": "5232ec01",
   "metadata": {},
   "outputs": [],
   "source": [
    "pipe = make_pipeline(mapper, CB_estimator)"
   ]
  },
  {
   "cell_type": "code",
   "execution_count": 62,
   "id": "665728be",
   "metadata": {},
   "outputs": [
    {
     "data": {
      "text/plain": [
       "{'memory': None,\n",
       " 'steps': [('dataframemapper',\n",
       "   DataFrameMapper(df_out=True, drop_cols=[],\n",
       "                   features=[(['car_kms', 'car_year'],\n",
       "                              FunctionTransformer(func=<function outlier_cap at 0x0000014FDF351940>))])),\n",
       "  ('customcatboostregressor',\n",
       "   <__main__.CustomCatBoostRegressor at 0x14fdf3530a0>)],\n",
       " 'verbose': False,\n",
       " 'dataframemapper': DataFrameMapper(df_out=True, drop_cols=[],\n",
       "                 features=[(['car_kms', 'car_year'],\n",
       "                            FunctionTransformer(func=<function outlier_cap at 0x0000014FDF351940>))]),\n",
       " 'customcatboostregressor': <__main__.CustomCatBoostRegressor at 0x14fdf3530a0>,\n",
       " 'dataframemapper__default': False,\n",
       " 'dataframemapper__df_out': True,\n",
       " 'dataframemapper__drop_cols': [],\n",
       " 'dataframemapper__features': [(['car_kms', 'car_year'],\n",
       "   FunctionTransformer(func=<function outlier_cap at 0x0000014FDF351940>))],\n",
       " 'dataframemapper__input_df': False,\n",
       " 'dataframemapper__sparse': False,\n",
       " 'customcatboostregressor__iterations': 50,\n",
       " 'customcatboostregressor__learning_rate': 0.1,\n",
       " 'customcatboostregressor__depth': 3,\n",
       " 'customcatboostregressor__loss_function': 'RMSE'}"
      ]
     },
     "execution_count": 62,
     "metadata": {},
     "output_type": "execute_result"
    }
   ],
   "source": [
    "pipe.get_params()"
   ]
  },
  {
   "cell_type": "markdown",
   "id": "8918c4fa",
   "metadata": {},
   "source": [
    "## 2) Dataset de desarrollo"
   ]
  },
  {
   "cell_type": "code",
   "execution_count": 10,
   "id": "14fd7869",
   "metadata": {},
   "outputs": [],
   "source": [
    "# Upload del pickle\n",
    "df_meli = pd.read_pickle('df_meli_2021-12-20.pkl')"
   ]
  },
  {
   "cell_type": "code",
   "execution_count": 11,
   "id": "2c9ff4ae",
   "metadata": {},
   "outputs": [
    {
     "data": {
      "text/plain": [
       "(3104549, 42)"
      ]
     },
     "execution_count": 11,
     "metadata": {},
     "output_type": "execute_result"
    }
   ],
   "source": [
    "df_meli.shape"
   ]
  },
  {
   "cell_type": "markdown",
   "id": "c7cbd69e",
   "metadata": {},
   "source": [
    "**Todo lo que viene ahora es lo que tenemos que tratar de que este directamente en la query de sql que importa la data de BigQuery**"
   ]
  },
  {
   "cell_type": "markdown",
   "id": "980159c8",
   "metadata": {},
   "source": [
    "**Removing duplicates**"
   ]
  },
  {
   "cell_type": "code",
   "execution_count": 12,
   "id": "5a2cd3c5",
   "metadata": {},
   "outputs": [],
   "source": [
    "# Tratamiento de la feautre \"runtime\"\n",
    "df_meli['runtime'] = pd.to_datetime(df_meli.runtime.apply(lambda x: str(x)[:19]))\n",
    "df_meli = df_meli.sort_values(['runtime'])\n",
    "# Ahora si, teniendo el df ordenado, eliminamos los duplicados, quedandonos con el registro más reciente (la última ocurrencia)\n",
    "df_meli.drop_duplicates(subset=['car_id'], keep='last', inplace=True)"
   ]
  },
  {
   "cell_type": "markdown",
   "id": "95250ddf",
   "metadata": {},
   "source": [
    "**Precio final**"
   ]
  },
  {
   "cell_type": "code",
   "execution_count": 13,
   "id": "834f5b1f",
   "metadata": {},
   "outputs": [],
   "source": [
    "# Construcción del precio final\n",
    "blue= 196.5\n",
    "oficial= 108.4\n",
    "col1 = 'price_symbol'\n",
    "col2 = 'car_kms'\n",
    "conditions = [df_meli[col1]!='U$S', (df_meli[col1]=='U$S') & (df_meli[col2]==0), (df_meli[col1]=='U$S') & (df_meli[col2]!=0)]\n",
    "choices = [df_meli.price_amount, df_meli['price_amount']*oficial, df_meli['price_amount']*blue]\n",
    "\n",
    "df_meli['price_meli_ok'] = np.select(conditions, choices, default=np.nan)"
   ]
  },
  {
   "cell_type": "code",
   "execution_count": 14,
   "id": "24855ce8",
   "metadata": {},
   "outputs": [],
   "source": [
    "# Luego de ya tener el precio final calculado, podemos eliminar del dataset las variables de precio originales\n",
    "df_meli.drop(['price_symbol','price_amount'],1,inplace=True)"
   ]
  },
  {
   "cell_type": "markdown",
   "id": "76ed2737",
   "metadata": {},
   "source": [
    "**Remove outliers**"
   ]
  },
  {
   "cell_type": "code",
   "execution_count": 15,
   "id": "78d8604c",
   "metadata": {},
   "outputs": [],
   "source": [
    "# Analisis: Excluir outliers de \"price_meli_ok\" --> directamente dropeamos los registros\n",
    "q_99_p = np.quantile(df_meli['price_meli_ok'],.99)\n",
    "q_99_km = np.quantile(df_meli['car_kms'],.99)\n",
    "df_meli = df_meli[(df_meli.price_meli_ok <= q_99_p) & (df_meli.car_kms <= q_99_km)]"
   ]
  },
  {
   "cell_type": "markdown",
   "id": "3bffd54e",
   "metadata": {},
   "source": [
    "**Removing catgories**"
   ]
  },
  {
   "cell_type": "code",
   "execution_count": 16,
   "id": "87e59def",
   "metadata": {},
   "outputs": [],
   "source": [
    "cats_loc1_ok = ['Capital Federal','Bs.As. G.B.A. Sur','Bs.As. G.B.A. Norte'\n",
    "           ,'Bs.As. G.B.A. Oeste','Buenos Aires Interior','Bs.As. Costa Atlántica']\n",
    "mask = df_meli.car_location_1.apply(lambda x: x in cats_loc1_ok)\n",
    "df_meli = df_meli[mask]"
   ]
  },
  {
   "cell_type": "code",
   "execution_count": 17,
   "id": "369a1f4d",
   "metadata": {},
   "outputs": [],
   "source": [
    "cats_brand_ok =['Alfa Romeo','Audi','BMW','Chery','Chevrolet','Chrysler','Citroën','DS','Dodge','Fiat','Ford','Geely','Haval','Honda',\n",
    " 'Hyundai','JAC','Jeep','Kia','Land Rover','Lifan','Mercedes-Benz','Mini','Mitsubishi','Nissan','Peugeot','Porsche','RAM',\n",
    " 'Renault','SEAT','Shineray','Smart','Subaru','Suzuki','Toyota','Volkswagen','Volvo']\n",
    "mask = df_meli.brand.apply(lambda x: x in cats_brand_ok)\n",
    "df_meli = df_meli[mask]"
   ]
  },
  {
   "cell_type": "markdown",
   "id": "aa010b7b",
   "metadata": {},
   "source": [
    "**Removing 0km & concesionaria**"
   ]
  },
  {
   "cell_type": "code",
   "execution_count": 18,
   "id": "22434a21",
   "metadata": {},
   "outputs": [],
   "source": [
    "# Pasamos \"dealer\" de booleano a flag 1 y 0\n",
    "df_meli['dealer'] = np.where(df_meli['dealer']==True,1,0)\n",
    "mask_not_0km = df_meli.car_kms > 90\n",
    "mask_not_conces = df_meli.dealer == 0\n",
    "\n",
    "df_meli = df_meli[(mask_not_0km) & (mask_not_conces)]\n",
    "\n",
    "# Como nos quedamos con solamente un valor de la feature \"dealer\" la podemos eliminar\n",
    "df_meli.drop('dealer',1,inplace=True)"
   ]
  },
  {
   "cell_type": "markdown",
   "id": "470c486c",
   "metadata": {},
   "source": [
    "**Removing match_scores under 50%**"
   ]
  },
  {
   "cell_type": "code",
   "execution_count": 19,
   "id": "77c3dc38",
   "metadata": {},
   "outputs": [
    {
     "data": {
      "text/plain": [
       "score_marca_a     92.0\n",
       "score_modelo_a    50.0\n",
       "score_v1_c        50.0\n",
       "dtype: float64"
      ]
     },
     "execution_count": 19,
     "metadata": {},
     "output_type": "execute_result"
    }
   ],
   "source": [
    "lst = ['score_marca_a','score_modelo_a','score_v1_c']\n",
    "for col in lst:\n",
    "    df_meli = df_meli[df_meli[col]>=50]\n",
    "    \n",
    "# chequeo\n",
    "df_meli[lst].min()"
   ]
  },
  {
   "cell_type": "markdown",
   "id": "1bd5e3d3",
   "metadata": {},
   "source": [
    "**Removing nulls**"
   ]
  },
  {
   "cell_type": "code",
   "execution_count": 22,
   "id": "cc520fc3",
   "metadata": {},
   "outputs": [],
   "source": [
    "# Eliminamos los registros con nulos\n",
    "for col in ['car_year','car_kms','match_marca_a','match_modelo_a','match_v1_c', 'Subseg_a', 'Seg_a']:\n",
    "    df_meli = df_meli[~df_meli[col].isnull()]"
   ]
  },
  {
   "cell_type": "markdown",
   "id": "3d498d5d",
   "metadata": {},
   "source": [
    "**Le agregamos el sufijo a las categoricas** <br>\n",
    "Esto es para que luego el custom catboost reconozca cuales son las categoricas"
   ]
  },
  {
   "cell_type": "code",
   "execution_count": 23,
   "id": "21f98e99",
   "metadata": {},
   "outputs": [],
   "source": [
    "for col in cols_categ:\n",
    "    df_meli.rename(columns={col:f'{col}{categorical_suffix}'}, inplace=True)"
   ]
  },
  {
   "cell_type": "markdown",
   "id": "0e9468d7",
   "metadata": {},
   "source": [
    "**Selecting final feautres**"
   ]
  },
  {
   "cell_type": "code",
   "execution_count": 25,
   "id": "480f1c43",
   "metadata": {},
   "outputs": [],
   "source": [
    "final_features = ['car_year','car_kms','match_marca_a_#CAT#','match_modelo_a_#CAT#'\n",
    "                  ,'match_v1_c_#CAT#', 'Subseg_a_#CAT#', 'Seg_a_#CAT#']\n",
    "car_location = ['car_location_1'] # esta no la usamos para entrenar el modelo, solo que la queremos en el output final\n",
    "car_ids = ['car_id'] # lo necesitamos para que las simulaciones no scoreen registros que ya se scorearon antes\n",
    "target = ['price_meli_ok']\n",
    "df_meli_final = df_meli[final_features+car_location+car_ids+target]"
   ]
  },
  {
   "cell_type": "code",
   "execution_count": 26,
   "id": "104ddb37",
   "metadata": {},
   "outputs": [],
   "source": [
    "# Ajustamos un dtype\n",
    "# esto simplemente lo hacemos para despues en el catboost diferenciar entre float y object, en lugar de sumar int. \n",
    "df_meli_final['car_year']=df_meli_final['car_year'].astype('float')"
   ]
  },
  {
   "cell_type": "code",
   "execution_count": 27,
   "id": "cb0000ba",
   "metadata": {},
   "outputs": [
    {
     "data": {
      "text/plain": [
       "(37511, 10)"
      ]
     },
     "execution_count": 27,
     "metadata": {},
     "output_type": "execute_result"
    }
   ],
   "source": [
    "# chequeo post limpieza\n",
    "df_meli_final.shape"
   ]
  },
  {
   "cell_type": "code",
   "execution_count": 28,
   "id": "0ad0c73d",
   "metadata": {
    "collapsed": true,
    "jupyter": {
     "outputs_hidden": true
    }
   },
   "outputs": [
    {
     "data": {
      "text/html": [
       "<div>\n",
       "<style scoped>\n",
       "    .dataframe tbody tr th:only-of-type {\n",
       "        vertical-align: middle;\n",
       "    }\n",
       "\n",
       "    .dataframe tbody tr th {\n",
       "        vertical-align: top;\n",
       "    }\n",
       "\n",
       "    .dataframe thead th {\n",
       "        text-align: right;\n",
       "    }\n",
       "</style>\n",
       "<table border=\"1\" class=\"dataframe\">\n",
       "  <thead>\n",
       "    <tr style=\"text-align: right;\">\n",
       "      <th></th>\n",
       "      <th>car_year</th>\n",
       "      <th>car_kms</th>\n",
       "      <th>match_marca_a_#CAT#</th>\n",
       "      <th>match_modelo_a_#CAT#</th>\n",
       "      <th>match_v1_c_#CAT#</th>\n",
       "      <th>Subseg_a_#CAT#</th>\n",
       "      <th>Seg_a_#CAT#</th>\n",
       "      <th>car_location_1</th>\n",
       "      <th>car_id</th>\n",
       "      <th>price_meli_ok</th>\n",
       "    </tr>\n",
       "  </thead>\n",
       "  <tbody>\n",
       "    <tr>\n",
       "      <th>1640282</th>\n",
       "      <td>2019.0</td>\n",
       "      <td>32000.0</td>\n",
       "      <td>CHEVROLET</td>\n",
       "      <td>Onix</td>\n",
       "      <td>JOY 5P 1.4 N LS MT</td>\n",
       "      <td>Gama Pequenos Hatchback</td>\n",
       "      <td>Gama Pequenos</td>\n",
       "      <td>Bs.As. G.B.A. Sur</td>\n",
       "      <td>1104596590</td>\n",
       "      <td>1500000.0</td>\n",
       "    </tr>\n",
       "    <tr>\n",
       "      <th>2292449</th>\n",
       "      <td>2020.0</td>\n",
       "      <td>9000.0</td>\n",
       "      <td>FORD</td>\n",
       "      <td>Ranger</td>\n",
       "      <td>LIMITED 4X4 2.8D CAB.DOB.</td>\n",
       "      <td>Pickups Medianas-Grandes</td>\n",
       "      <td>Livianos</td>\n",
       "      <td>Buenos Aires Interior</td>\n",
       "      <td>1108782314</td>\n",
       "      <td>6300000.0</td>\n",
       "    </tr>\n",
       "    <tr>\n",
       "      <th>1361521</th>\n",
       "      <td>2020.0</td>\n",
       "      <td>10000.0</td>\n",
       "      <td>FORD</td>\n",
       "      <td>Ranger</td>\n",
       "      <td>LIMITED 4X4 2.8D CAB.DOB.</td>\n",
       "      <td>Pickups Medianas-Grandes</td>\n",
       "      <td>Livianos</td>\n",
       "      <td>Bs.As. Costa Atlántica</td>\n",
       "      <td>1109381735</td>\n",
       "      <td>6900000.0</td>\n",
       "    </tr>\n",
       "    <tr>\n",
       "      <th>581742</th>\n",
       "      <td>2020.0</td>\n",
       "      <td>50000.0</td>\n",
       "      <td>FORD</td>\n",
       "      <td>KA</td>\n",
       "      <td>S 1.5L</td>\n",
       "      <td>Gama Pequenos Hatchback</td>\n",
       "      <td>Gama Pequenos</td>\n",
       "      <td>Bs.As. G.B.A. Sur</td>\n",
       "      <td>1105093008</td>\n",
       "      <td>1600000.0</td>\n",
       "    </tr>\n",
       "    <tr>\n",
       "      <th>597897</th>\n",
       "      <td>2007.0</td>\n",
       "      <td>120000.0</td>\n",
       "      <td>PEUGEOT</td>\n",
       "      <td>206</td>\n",
       "      <td>XR PRESENCE 1.4 3P</td>\n",
       "      <td>Gama Pequenos Hatchback</td>\n",
       "      <td>Gama Pequenos</td>\n",
       "      <td>Bs.As. G.B.A. Oeste</td>\n",
       "      <td>1104791935</td>\n",
       "      <td>600000.0</td>\n",
       "    </tr>\n",
       "  </tbody>\n",
       "</table>\n",
       "</div>"
      ],
      "text/plain": [
       "         car_year   car_kms match_marca_a_#CAT# match_modelo_a_#CAT#  \\\n",
       "1640282    2019.0   32000.0           CHEVROLET                 Onix   \n",
       "2292449    2020.0    9000.0                FORD               Ranger   \n",
       "1361521    2020.0   10000.0                FORD               Ranger   \n",
       "581742     2020.0   50000.0                FORD                   KA   \n",
       "597897     2007.0  120000.0             PEUGEOT                  206   \n",
       "\n",
       "                  match_v1_c_#CAT#            Subseg_a_#CAT#    Seg_a_#CAT#  \\\n",
       "1640282         JOY 5P 1.4 N LS MT   Gama Pequenos Hatchback  Gama Pequenos   \n",
       "2292449  LIMITED 4X4 2.8D CAB.DOB.  Pickups Medianas-Grandes       Livianos   \n",
       "1361521  LIMITED 4X4 2.8D CAB.DOB.  Pickups Medianas-Grandes       Livianos   \n",
       "581742                      S 1.5L   Gama Pequenos Hatchback  Gama Pequenos   \n",
       "597897          XR PRESENCE 1.4 3P   Gama Pequenos Hatchback  Gama Pequenos   \n",
       "\n",
       "                 car_location_1      car_id  price_meli_ok  \n",
       "1640282       Bs.As. G.B.A. Sur  1104596590      1500000.0  \n",
       "2292449   Buenos Aires Interior  1108782314      6300000.0  \n",
       "1361521  Bs.As. Costa Atlántica  1109381735      6900000.0  \n",
       "581742        Bs.As. G.B.A. Sur  1105093008      1600000.0  \n",
       "597897      Bs.As. G.B.A. Oeste  1104791935       600000.0  "
      ]
     },
     "execution_count": 28,
     "metadata": {},
     "output_type": "execute_result"
    }
   ],
   "source": [
    "# chequeo post limpieza\n",
    "df_meli_final.head()"
   ]
  },
  {
   "cell_type": "markdown",
   "id": "de71618e",
   "metadata": {},
   "source": [
    "*- Fin: Dataset de desarrollo -*"
   ]
  },
  {
   "cell_type": "markdown",
   "id": "056e83e4",
   "metadata": {},
   "source": [
    "## 3) Split train test"
   ]
  },
  {
   "cell_type": "code",
   "execution_count": 65,
   "id": "65cd25d4",
   "metadata": {},
   "outputs": [],
   "source": [
    "X = df_meli_final[final_features]\n",
    "y = df_meli_final.price_meli_ok\n",
    "X_train, X_test, y_train, y_test = train_test_split(X, y, train_size=0.8, random_state=42)"
   ]
  },
  {
   "cell_type": "markdown",
   "id": "444cb3b4",
   "metadata": {},
   "source": [
    "## 4) Fit pipeline"
   ]
  },
  {
   "cell_type": "code",
   "execution_count": 66,
   "id": "b210af61",
   "metadata": {},
   "outputs": [
    {
     "name": "stdout",
     "output_type": "stream",
     "text": [
      "[]\n",
      "0:\tlearn: 1656330.8108532\ttotal: 3.39ms\tremaining: 166ms\n",
      "1:\tlearn: 1616480.2324321\ttotal: 6.69ms\tremaining: 161ms\n",
      "2:\tlearn: 1581375.5202441\ttotal: 10.1ms\tremaining: 158ms\n",
      "3:\tlearn: 1553205.4304882\ttotal: 13.9ms\tremaining: 160ms\n",
      "4:\tlearn: 1528307.0230616\ttotal: 17.8ms\tremaining: 160ms\n",
      "5:\tlearn: 1507487.8496492\ttotal: 21.3ms\tremaining: 156ms\n",
      "6:\tlearn: 1490349.4967818\ttotal: 24.7ms\tremaining: 151ms\n",
      "7:\tlearn: 1475637.6061757\ttotal: 27.8ms\tremaining: 146ms\n",
      "8:\tlearn: 1463140.6826816\ttotal: 31.1ms\tremaining: 142ms\n",
      "9:\tlearn: 1453173.6869814\ttotal: 34.6ms\tremaining: 138ms\n",
      "10:\tlearn: 1444170.2466628\ttotal: 37.8ms\tremaining: 134ms\n",
      "11:\tlearn: 1436673.7685763\ttotal: 40.9ms\tremaining: 130ms\n",
      "12:\tlearn: 1430645.4593103\ttotal: 44.1ms\tremaining: 126ms\n",
      "13:\tlearn: 1425241.2298308\ttotal: 47.3ms\tremaining: 122ms\n",
      "14:\tlearn: 1420746.8963229\ttotal: 50.7ms\tremaining: 118ms\n",
      "15:\tlearn: 1416519.9556672\ttotal: 53.6ms\tremaining: 114ms\n",
      "16:\tlearn: 1412834.1115794\ttotal: 56.7ms\tremaining: 110ms\n",
      "17:\tlearn: 1409951.9911312\ttotal: 59.8ms\tremaining: 106ms\n",
      "18:\tlearn: 1407368.9655154\ttotal: 62.6ms\tremaining: 102ms\n",
      "19:\tlearn: 1405309.8927508\ttotal: 65.5ms\tremaining: 98.3ms\n",
      "20:\tlearn: 1403468.7987709\ttotal: 68.4ms\tremaining: 94.4ms\n",
      "21:\tlearn: 1401991.3006006\ttotal: 71.4ms\tremaining: 90.8ms\n",
      "22:\tlearn: 1400566.2970764\ttotal: 74.3ms\tremaining: 87.2ms\n",
      "23:\tlearn: 1399430.2427105\ttotal: 77.2ms\tremaining: 83.6ms\n",
      "24:\tlearn: 1398501.6378653\ttotal: 80.1ms\tremaining: 80.1ms\n",
      "25:\tlearn: 1397755.6359064\ttotal: 82.8ms\tremaining: 76.5ms\n",
      "26:\tlearn: 1396975.1918149\ttotal: 85.7ms\tremaining: 73ms\n",
      "27:\tlearn: 1396280.4402552\ttotal: 88.5ms\tremaining: 69.5ms\n",
      "28:\tlearn: 1395637.3449864\ttotal: 91.2ms\tremaining: 66.1ms\n",
      "29:\tlearn: 1395093.7264106\ttotal: 94ms\tremaining: 62.6ms\n",
      "30:\tlearn: 1394665.1084792\ttotal: 96.6ms\tremaining: 59.2ms\n",
      "31:\tlearn: 1394321.0892868\ttotal: 99.2ms\tremaining: 55.8ms\n",
      "32:\tlearn: 1393900.1740840\ttotal: 102ms\tremaining: 52.4ms\n",
      "33:\tlearn: 1393468.2909298\ttotal: 105ms\tremaining: 49.5ms\n",
      "34:\tlearn: 1393218.0202148\ttotal: 108ms\tremaining: 46.3ms\n",
      "35:\tlearn: 1392996.9271037\ttotal: 111ms\tremaining: 43.2ms\n",
      "36:\tlearn: 1392785.1715508\ttotal: 114ms\tremaining: 40ms\n",
      "37:\tlearn: 1392525.7473551\ttotal: 116ms\tremaining: 36.7ms\n",
      "38:\tlearn: 1392406.0212714\ttotal: 119ms\tremaining: 33.5ms\n",
      "39:\tlearn: 1392210.2058253\ttotal: 122ms\tremaining: 30.4ms\n",
      "40:\tlearn: 1392122.4744983\ttotal: 125ms\tremaining: 27.3ms\n",
      "41:\tlearn: 1392061.6935612\ttotal: 128ms\tremaining: 24.3ms\n",
      "42:\tlearn: 1391970.5738633\ttotal: 130ms\tremaining: 21.2ms\n",
      "43:\tlearn: 1391882.2142785\ttotal: 133ms\tremaining: 18.1ms\n",
      "44:\tlearn: 1391818.1299674\ttotal: 136ms\tremaining: 15.1ms\n",
      "45:\tlearn: 1391707.5457437\ttotal: 139ms\tremaining: 12ms\n",
      "46:\tlearn: 1391612.6816557\ttotal: 141ms\tremaining: 9.02ms\n",
      "47:\tlearn: 1391480.8830729\ttotal: 144ms\tremaining: 6ms\n",
      "48:\tlearn: 1391415.4184645\ttotal: 147ms\tremaining: 3ms\n",
      "49:\tlearn: 1391295.8324489\ttotal: 150ms\tremaining: 0us\n"
     ]
    },
    {
     "data": {
      "text/plain": [
       "Pipeline(steps=[('dataframemapper',\n",
       "                 DataFrameMapper(df_out=True, drop_cols=[],\n",
       "                                 features=[(['car_kms', 'car_year'],\n",
       "                                            FunctionTransformer(func=<function outlier_cap at 0x0000014FDF351940>))])),\n",
       "                ('customcatboostregressor',\n",
       "                 <__main__.CustomCatBoostRegressor object at 0x0000014FDF3530A0>)])"
      ]
     },
     "execution_count": 66,
     "metadata": {},
     "output_type": "execute_result"
    }
   ],
   "source": [
    "# Fiteamos el pipeline\n",
    "pipe.fit(X_train, y_train)"
   ]
  },
  {
   "cell_type": "code",
   "execution_count": 56,
   "id": "da9d13ff",
   "metadata": {},
   "outputs": [
    {
     "name": "stdout",
     "output_type": "stream",
     "text": [
      "\n",
      "Test  R2 : -9992.164\n",
      "Train R2 : -39623.601\n"
     ]
    }
   ],
   "source": [
    "print(\"\\nTest  R2 : %.3f\"%pipe.score(X_test, y_test))\n",
    "print(\"Train R2 : %.3f\"%pipe.score(X_train, y_train))"
   ]
  },
  {
   "cell_type": "code",
   "execution_count": 73,
   "id": "d09109bb",
   "metadata": {},
   "outputs": [
    {
     "name": "stdout",
     "output_type": "stream",
     "text": [
      "Test: 0.3328259877340365\n"
     ]
    }
   ],
   "source": [
    "# R2\n",
    "\n",
    "# Train\n",
    "#print(f'Train: {r2_score(y_true_train, y_pred_train)}')\n",
    "\n",
    "# Test\n",
    "y_true_test = y_train\n",
    "y_pred_test = pipe.predict(X_train)\n",
    "print(f'Test: {r2_score(y_true_test, y_pred_test)}')"
   ]
  },
  {
   "cell_type": "code",
   "execution_count": 71,
   "id": "15cb7adf",
   "metadata": {},
   "outputs": [],
   "source": [
    "categorical_features_indices = np.where(X_train.dtypes != np.float)[0]"
   ]
  },
  {
   "cell_type": "code",
   "execution_count": 72,
   "id": "9cb01e56",
   "metadata": {},
   "outputs": [
    {
     "name": "stdout",
     "output_type": "stream",
     "text": [
      "0:\tlearn: 1603588.0303176\ttotal: 13.2ms\tremaining: 645ms\n",
      "1:\tlearn: 1516259.7668622\ttotal: 24.6ms\tremaining: 591ms\n",
      "2:\tlearn: 1440527.9550434\ttotal: 35.5ms\tremaining: 556ms\n",
      "3:\tlearn: 1370836.3687444\ttotal: 45.5ms\tremaining: 523ms\n",
      "4:\tlearn: 1310022.2865467\ttotal: 57.5ms\tremaining: 518ms\n",
      "5:\tlearn: 1258334.0189364\ttotal: 67.4ms\tremaining: 494ms\n",
      "6:\tlearn: 1209239.0034789\ttotal: 77.8ms\tremaining: 478ms\n",
      "7:\tlearn: 1162992.3326794\ttotal: 87.9ms\tremaining: 462ms\n",
      "8:\tlearn: 1126269.0580224\ttotal: 97.9ms\tremaining: 446ms\n",
      "9:\tlearn: 1093539.6082587\ttotal: 108ms\tremaining: 433ms\n",
      "10:\tlearn: 1063255.1134896\ttotal: 119ms\tremaining: 421ms\n",
      "11:\tlearn: 1036228.5248364\ttotal: 128ms\tremaining: 407ms\n",
      "12:\tlearn: 1009672.1892504\ttotal: 138ms\tremaining: 393ms\n",
      "13:\tlearn: 988361.1772137\ttotal: 149ms\tremaining: 382ms\n",
      "14:\tlearn: 969549.0709939\ttotal: 159ms\tremaining: 370ms\n",
      "15:\tlearn: 951482.0177084\ttotal: 172ms\tremaining: 365ms\n",
      "16:\tlearn: 935086.2642648\ttotal: 181ms\tremaining: 352ms\n",
      "17:\tlearn: 920498.6297818\ttotal: 192ms\tremaining: 342ms\n",
      "18:\tlearn: 908590.0568164\ttotal: 204ms\tremaining: 334ms\n",
      "19:\tlearn: 899014.4150233\ttotal: 217ms\tremaining: 325ms\n",
      "20:\tlearn: 887755.9251444\ttotal: 227ms\tremaining: 314ms\n",
      "21:\tlearn: 880884.7199082\ttotal: 238ms\tremaining: 303ms\n",
      "22:\tlearn: 870677.2616790\ttotal: 248ms\tremaining: 292ms\n",
      "23:\tlearn: 862791.0997830\ttotal: 258ms\tremaining: 280ms\n",
      "24:\tlearn: 856018.1817724\ttotal: 269ms\tremaining: 269ms\n",
      "25:\tlearn: 848977.9031289\ttotal: 278ms\tremaining: 257ms\n",
      "26:\tlearn: 843742.8532544\ttotal: 288ms\tremaining: 246ms\n",
      "27:\tlearn: 839262.5121294\ttotal: 299ms\tremaining: 235ms\n",
      "28:\tlearn: 834083.1143768\ttotal: 309ms\tremaining: 223ms\n",
      "29:\tlearn: 830961.4383135\ttotal: 319ms\tremaining: 213ms\n",
      "30:\tlearn: 826569.7819957\ttotal: 330ms\tremaining: 202ms\n",
      "31:\tlearn: 822883.8985164\ttotal: 340ms\tremaining: 192ms\n",
      "32:\tlearn: 818452.8458057\ttotal: 351ms\tremaining: 181ms\n",
      "33:\tlearn: 815206.5247177\ttotal: 361ms\tremaining: 170ms\n",
      "34:\tlearn: 812149.3087008\ttotal: 371ms\tremaining: 159ms\n",
      "35:\tlearn: 809294.0265234\ttotal: 382ms\tremaining: 148ms\n",
      "36:\tlearn: 806609.7771090\ttotal: 394ms\tremaining: 138ms\n",
      "37:\tlearn: 804409.8765030\ttotal: 405ms\tremaining: 128ms\n",
      "38:\tlearn: 802741.7370069\ttotal: 416ms\tremaining: 117ms\n",
      "39:\tlearn: 800490.4702689\ttotal: 429ms\tremaining: 107ms\n",
      "40:\tlearn: 796786.7395882\ttotal: 441ms\tremaining: 96.8ms\n",
      "41:\tlearn: 794805.0333775\ttotal: 453ms\tremaining: 86.3ms\n",
      "42:\tlearn: 792696.8000300\ttotal: 464ms\tremaining: 75.5ms\n",
      "43:\tlearn: 791216.9692636\ttotal: 474ms\tremaining: 64.6ms\n",
      "44:\tlearn: 788624.0676852\ttotal: 484ms\tremaining: 53.8ms\n",
      "45:\tlearn: 787087.5347180\ttotal: 495ms\tremaining: 43ms\n",
      "46:\tlearn: 785488.5291759\ttotal: 505ms\tremaining: 32.3ms\n",
      "47:\tlearn: 783233.6852570\ttotal: 515ms\tremaining: 21.5ms\n",
      "48:\tlearn: 781870.0165814\ttotal: 525ms\tremaining: 10.7ms\n",
      "49:\tlearn: 780254.9323534\ttotal: 535ms\tremaining: 0us\n",
      "\n",
      "Test  R2 : 0.804\n",
      "Train R2 : 0.795\n"
     ]
    }
   ],
   "source": [
    "########### prueba sin el eval_test parameter ##########\n",
    "model=CatBoostRegressor(iterations=50, depth=3, learning_rate=0.1, loss_function='RMSE') #,logging_level=\"Silent\"\n",
    "model.fit(X_train, y_train, cat_features=categorical_features_indices)\n",
    "\n",
    "test_preds = model.predict(X_test)\n",
    "train_preds = model.predict(X_train)\n",
    "\n",
    "from catboost.utils import eval_metric\n",
    "\n",
    "print(\"\\nTest  R2 : %.3f\"%model.score(X_test, y_test))\n",
    "print(\"Train R2 : %.3f\"%model.score(X_train, y_train))"
   ]
  },
  {
   "cell_type": "code",
   "execution_count": 68,
   "id": "51b812b3",
   "metadata": {},
   "outputs": [
    {
     "data": {
      "text/plain": [
       "Index(['car_year', 'car_kms', 'match_marca_a_#CAT#', 'match_modelo_a_#CAT#',\n",
       "       'match_v1_c_#CAT#', 'Subseg_a_#CAT#', 'Seg_a_#CAT#', 'car_location_1',\n",
       "       'car_id'],\n",
       "      dtype='object')"
      ]
     },
     "execution_count": 68,
     "metadata": {},
     "output_type": "execute_result"
    }
   ],
   "source": [
    "df_meli_final.drop('price_meli_ok',1).columns"
   ]
  },
  {
   "cell_type": "code",
   "execution_count": null,
   "id": "0c9aa744",
   "metadata": {},
   "outputs": [],
   "source": []
  }
 ],
 "metadata": {
  "kernelspec": {
   "display_name": "Python 3 (ipykernel)",
   "language": "python",
   "name": "python3"
  },
  "language_info": {
   "codemirror_mode": {
    "name": "ipython",
    "version": 3
   },
   "file_extension": ".py",
   "mimetype": "text/x-python",
   "name": "python",
   "nbconvert_exporter": "python",
   "pygments_lexer": "ipython3",
   "version": "3.8.12"
  }
 },
 "nbformat": 4,
 "nbformat_minor": 5
}
